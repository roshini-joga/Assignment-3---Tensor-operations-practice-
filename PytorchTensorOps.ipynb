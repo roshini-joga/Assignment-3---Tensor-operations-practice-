{
  "nbformat": 4,
  "nbformat_minor": 0,
  "metadata": {
    "colab": {
      "provenance": []
    },
    "kernelspec": {
      "name": "python3",
      "display_name": "Python 3"
    },
    "language_info": {
      "name": "python"
    }
  },
  "cells": [
    {
      "cell_type": "code",
      "execution_count": 1,
      "metadata": {
        "id": "YcNiD2Z4Z-iL"
      },
      "outputs": [],
      "source": [
        "import torch\n",
        "import einops\n",
        "import matplotlib.pyplot as plt"
      ]
    },
    {
      "cell_type": "code",
      "source": [
        "# Basic Tensor Operations\n",
        "print(\"Basic Tensor Operations:\")\n",
        "A = torch.tensor([[1, 2], [3, 4]], dtype=torch.float32)\n",
        "B = torch.tensor([[5, 6], [7, 8]], dtype=torch.float32)\n",
        "print(\"Tensor A:\\n\", A)\n",
        "print(\"Tensor B:\\n\", B)"
      ],
      "metadata": {
        "colab": {
          "base_uri": "https://localhost:8080/"
        },
        "id": "1_p65tS-bEwd",
        "outputId": "ce855db4-0ce6-4118-fce4-cd13f99d99e9"
      },
      "execution_count": 2,
      "outputs": [
        {
          "output_type": "stream",
          "name": "stdout",
          "text": [
            "Basic Tensor Operations:\n",
            "Tensor A:\n",
            " tensor([[1., 2.],\n",
            "        [3., 4.]])\n",
            "Tensor B:\n",
            " tensor([[5., 6.],\n",
            "        [7., 8.]])\n"
          ]
        }
      ]
    },
    {
      "cell_type": "code",
      "source": [
        "# Arithmetic Operations\n",
        "print(\"Addition:\\n\", A + B)\n",
        "print(\"Multiplication:\\n\", A * B)\n",
        "print(\"Matrix Multiplication:\\n\", A @ B)\n"
      ],
      "metadata": {
        "colab": {
          "base_uri": "https://localhost:8080/"
        },
        "id": "1JA6KrIibE2t",
        "outputId": "1ec6afbd-ed90-4a27-deab-9d2a4b2fb17c"
      },
      "execution_count": 3,
      "outputs": [
        {
          "output_type": "stream",
          "name": "stdout",
          "text": [
            "Addition:\n",
            " tensor([[ 6.,  8.],\n",
            "        [10., 12.]])\n",
            "Multiplication:\n",
            " tensor([[ 5., 12.],\n",
            "        [21., 32.]])\n",
            "Matrix Multiplication:\n",
            " tensor([[19., 22.],\n",
            "        [43., 50.]])\n"
          ]
        }
      ]
    },
    {
      "cell_type": "code",
      "source": [
        "\n",
        "# Reshaping and Permutation\n",
        "reshaped = A.view(4, 1)\n",
        "transposed = A.T\n",
        "print(\"Reshaped Tensor:\\n\", reshaped)\n",
        "print(\"Transposed Tensor:\\n\", transposed)\n"
      ],
      "metadata": {
        "colab": {
          "base_uri": "https://localhost:8080/"
        },
        "id": "_TKWupujbE6T",
        "outputId": "12e874e9-a901-49f0-ac48-a6b7550183e1"
      },
      "execution_count": 4,
      "outputs": [
        {
          "output_type": "stream",
          "name": "stdout",
          "text": [
            "Reshaped Tensor:\n",
            " tensor([[1.],\n",
            "        [2.],\n",
            "        [3.],\n",
            "        [4.]])\n",
            "Transposed Tensor:\n",
            " tensor([[1., 3.],\n",
            "        [2., 4.]])\n"
          ]
        }
      ]
    },
    {
      "cell_type": "code",
      "source": [
        "\n",
        "# Broadcasting\n",
        "C = torch.tensor([1, 2])\n",
        "D = A + C  # Broadcasting happens here\n",
        "print(\"Broadcasted Addition:\\n\", D)\n"
      ],
      "metadata": {
        "colab": {
          "base_uri": "https://localhost:8080/"
        },
        "id": "Y6D18TavbE9c",
        "outputId": "096b3058-8106-47d2-ac90-230e70da8a44"
      },
      "execution_count": 5,
      "outputs": [
        {
          "output_type": "stream",
          "name": "stdout",
          "text": [
            "Broadcasted Addition:\n",
            " tensor([[2., 4.],\n",
            "        [4., 6.]])\n"
          ]
        }
      ]
    },
    {
      "cell_type": "code",
      "source": [
        "\n",
        "# Concatenation and Stacking\n",
        "tensor_stack = torch.stack([A, B], dim=0)\n",
        "print(\"Stacked Tensor:\\n\", tensor_stack)\n"
      ],
      "metadata": {
        "colab": {
          "base_uri": "https://localhost:8080/"
        },
        "id": "iLj7jef_bE_x",
        "outputId": "fc201999-8dda-4f7c-bd3b-08ca380d9b4c"
      },
      "execution_count": 6,
      "outputs": [
        {
          "output_type": "stream",
          "name": "stdout",
          "text": [
            "Stacked Tensor:\n",
            " tensor([[[1., 2.],\n",
            "         [3., 4.]],\n",
            "\n",
            "        [[5., 6.],\n",
            "         [7., 8.]]])\n"
          ]
        }
      ]
    },
    {
      "cell_type": "code",
      "source": [
        "\n",
        "# Using einops for tensor manipulations\n",
        "tensor_rearrange = einops.rearrange(A, 'h w -> (h w)')\n",
        "print(\"Rearranged Tensor with einops:\\n\", tensor_rearrange)\n"
      ],
      "metadata": {
        "colab": {
          "base_uri": "https://localhost:8080/"
        },
        "id": "kC_xZWKxbFCH",
        "outputId": "58202bf7-c041-41fd-951d-46baff382fee"
      },
      "execution_count": 7,
      "outputs": [
        {
          "output_type": "stream",
          "name": "stdout",
          "text": [
            "Rearranged Tensor with einops:\n",
            " tensor([1., 2., 3., 4.])\n"
          ]
        }
      ]
    },
    {
      "cell_type": "code",
      "source": [
        "\n",
        "# GPU Acceleration\n",
        "device = \"cuda\" if torch.cuda.is_available() else \"cpu\"\n",
        "A_gpu = A.to(device)\n",
        "print(f\"Tensor on {device}:\\n\", A_gpu)\n"
      ],
      "metadata": {
        "colab": {
          "base_uri": "https://localhost:8080/"
        },
        "id": "_Fult0EnbFG1",
        "outputId": "132ef465-fe6c-4d8d-d818-4afd22374bd2"
      },
      "execution_count": 8,
      "outputs": [
        {
          "output_type": "stream",
          "name": "stdout",
          "text": [
            "Tensor on cpu:\n",
            " tensor([[1., 2.],\n",
            "        [3., 4.]])\n"
          ]
        }
      ]
    },
    {
      "cell_type": "code",
      "source": [
        "\n",
        "# Visualization of a tensor\n",
        "plt.imshow(A.numpy(), cmap='viridis')\n",
        "plt.colorbar()\n",
        "plt.title(\"Tensor Visualization\")\n",
        "plt.show()\n"
      ],
      "metadata": {
        "colab": {
          "base_uri": "https://localhost:8080/",
          "height": 452
        },
        "id": "h2aFT9EqbFJb",
        "outputId": "541a9f16-56da-413c-cc41-dff8a48beb26"
      },
      "execution_count": 9,
      "outputs": [
        {
          "output_type": "display_data",
          "data": {
            "text/plain": [
              "<Figure size 640x480 with 2 Axes>"
            ],
            "image/png": "[encoded data removed]"
          },
          "metadata": {}
        }
      ]
    }
  ]
}