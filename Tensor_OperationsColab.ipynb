{
  "nbformat": 4,
  "nbformat_minor": 0,
  "metadata": {
    "colab": {
      "provenance": []
    },
    "kernelspec": {
      "name": "python3",
      "display_name": "Python 3"
    },
    "language_info": {
      "name": "python"
    }
  },
  "cells": [
    {
      "cell_type": "code",
      "execution_count": 4,
      "metadata": {
        "id": "EkD6rO_hZuM9"
      },
      "outputs": [],
      "source": [
        "import tensorflow as tf\n",
        "import numpy as np"
      ]
    },
    {
      "cell_type": "code",
      "source": [
        "# Creating tensors\n",
        "t1 = tf.constant([[1, 2], [3, 4]])\n",
        "t2 = tf.constant([[5, 6], [7, 8]])\n",
        "print(\"Tensor 1:\", t1.numpy())\n",
        "print(\"Tensor 2:\", t2.numpy())"
      ],
      "metadata": {
        "colab": {
          "base_uri": "https://localhost:8080/"
        },
        "id": "BKboPEv4aIQE",
        "outputId": "f86a7b9c-d0b3-4193-89d5-66744ecafc48"
      },
      "execution_count": 5,
      "outputs": [
        {
          "output_type": "stream",
          "name": "stdout",
          "text": [
            "Tensor 1: [[1 2]\n",
            " [3 4]]\n",
            "Tensor 2: [[5 6]\n",
            " [7 8]]\n"
          ]
        }
      ]
    },
    {
      "cell_type": "code",
      "source": [
        "# Basic tensor operations\n",
        "add_result = tf.add(t1, t2)\n",
        "mul_result = tf.multiply(t1, t2)\n",
        "dot_result = tf.tensordot(t1, t2, axes=1)\n",
        "print(\"Addition Result:\", add_result.numpy())\n",
        "print(\"Multiplication Result:\", mul_result.numpy())\n",
        "print(\"Dot Product Result:\", dot_result.numpy())"
      ],
      "metadata": {
        "colab": {
          "base_uri": "https://localhost:8080/"
        },
        "id": "Af12utK7aOvd",
        "outputId": "533c37ea-e826-4e15-b9e5-16b1da45f5cb"
      },
      "execution_count": 6,
      "outputs": [
        {
          "output_type": "stream",
          "name": "stdout",
          "text": [
            "Addition Result: [[ 6  8]\n",
            " [10 12]]\n",
            "Multiplication Result: [[ 5 12]\n",
            " [21 32]]\n",
            "Dot Product Result: [[19 22]\n",
            " [43 50]]\n"
          ]
        }
      ]
    },
    {
      "cell_type": "code",
      "source": [
        "# Einsum operations\n",
        "a = tf.constant(np.random.rand(2, 3))\n",
        "b = tf.constant(np.random.rand(3, 4))\n",
        "\n",
        "einsum_result = tf.einsum('ij,jk->ik', a, b)\n",
        "print(\"Einsum Result:\", einsum_result.numpy())"
      ],
      "metadata": {
        "colab": {
          "base_uri": "https://localhost:8080/"
        },
        "id": "7rNoL8ngaOyB",
        "outputId": "e75911b8-8549-4fcd-8e12-afa4589a109f"
      },
      "execution_count": 7,
      "outputs": [
        {
          "output_type": "stream",
          "name": "stdout",
          "text": [
            "Einsum Result: [[0.38586811 0.37999059 0.47149447 0.82857458]\n",
            " [0.55468711 0.48943073 0.55562975 1.21307679]]\n"
          ]
        }
      ]
    },
    {
      "cell_type": "code",
      "source": [
        "# More complex einsum expressions\n",
        "x = tf.constant(np.random.rand(2, 3, 4))\n",
        "y = tf.constant(np.random.rand(4, 5))\n",
        "\n",
        "einsum_complex = tf.einsum('ijk,kl->ijl', x, y)\n",
        "print(\"Complex Einsum Result:\", einsum_complex.numpy())"
      ],
      "metadata": {
        "colab": {
          "base_uri": "https://localhost:8080/"
        },
        "id": "WxsRPcHcaO05",
        "outputId": "e047519f-ed23-4615-bd30-585f82fd9603"
      },
      "execution_count": 8,
      "outputs": [
        {
          "output_type": "stream",
          "name": "stdout",
          "text": [
            "Complex Einsum Result: [[[1.12234017 0.72312709 0.6011094  0.96202034 0.88969741]\n",
            "  [0.52117148 0.30445766 0.27942107 0.34721608 0.36844091]\n",
            "  [1.18526989 0.58127368 0.58224262 0.56208281 0.71352215]]\n",
            "\n",
            " [[1.14261034 0.65566782 0.48108129 0.90222834 0.80561127]\n",
            "  [1.84746914 1.0378629  1.03511695 1.14706053 1.30046479]\n",
            "  [1.66455126 1.11515204 0.79430098 1.27689519 1.16523347]]]\n"
          ]
        }
      ]
    },
    {
      "cell_type": "code",
      "source": [
        "# Reshaping tensors\n",
        "reshaped = tf.reshape(t1, [4, 1])\n",
        "print(\"Reshaped Tensor:\", reshaped.numpy())"
      ],
      "metadata": {
        "colab": {
          "base_uri": "https://localhost:8080/"
        },
        "id": "rJPvH0XOaO3w",
        "outputId": "1c632ba6-ea07-4a60-aa21-5a46c6aa4fde"
      },
      "execution_count": 9,
      "outputs": [
        {
          "output_type": "stream",
          "name": "stdout",
          "text": [
            "Reshaped Tensor: [[1]\n",
            " [2]\n",
            " [3]\n",
            " [4]]\n"
          ]
        }
      ]
    },
    {
      "cell_type": "code",
      "source": [
        "# Transposing tensors\n",
        "transposed = tf.transpose(t1)\n",
        "print(\"Transposed Tensor:\", transposed.numpy())"
      ],
      "metadata": {
        "colab": {
          "base_uri": "https://localhost:8080/"
        },
        "id": "1yc1vomYaZbk",
        "outputId": "af453e47-edfb-4da2-aa58-b336171a2b1b"
      },
      "execution_count": 10,
      "outputs": [
        {
          "output_type": "stream",
          "name": "stdout",
          "text": [
            "Transposed Tensor: [[1 3]\n",
            " [2 4]]\n"
          ]
        }
      ]
    },
    {
      "cell_type": "code",
      "source": [
        "# Expanding and squeezing dimensions\n",
        "expanded = tf.expand_dims(t1, axis=0)\n",
        "squeezed = tf.squeeze(expanded)\n",
        "print(\"Expanded Tensor:\", expanded.numpy())\n",
        "print(\"Squeezed Tensor:\", squeezed.numpy())"
      ],
      "metadata": {
        "colab": {
          "base_uri": "https://localhost:8080/"
        },
        "id": "Q1GCgjZ7abkC",
        "outputId": "a14dbcdb-ea98-42d8-90c9-a42329f5bedb"
      },
      "execution_count": 11,
      "outputs": [
        {
          "output_type": "stream",
          "name": "stdout",
          "text": [
            "Expanded Tensor: [[[1 2]\n",
            "  [3 4]]]\n",
            "Squeezed Tensor: [[1 2]\n",
            " [3 4]]\n"
          ]
        }
      ]
    },
    {
      "cell_type": "code",
      "source": [
        "# Stacking tensors\n",
        "stacked = tf.stack([t1, t2], axis=0)\n",
        "print(\"Stacked Tensor:\", stacked.numpy())"
      ],
      "metadata": {
        "colab": {
          "base_uri": "https://localhost:8080/"
        },
        "id": "wSUISKw9adrs",
        "outputId": "eda8de95-c3cb-4ddb-ac9d-b05d9fe91fec"
      },
      "execution_count": 12,
      "outputs": [
        {
          "output_type": "stream",
          "name": "stdout",
          "text": [
            "Stacked Tensor: [[[1 2]\n",
            "  [3 4]]\n",
            "\n",
            " [[5 6]\n",
            "  [7 8]]]\n"
          ]
        }
      ]
    },
    {
      "cell_type": "code",
      "source": [
        "# Broadcasting example\n",
        "a = tf.constant([1, 2, 3])\n",
        "b = tf.constant([[1], [2], [3]])\n",
        "broadcasted_addition = a + b\n",
        "print(\"Broadcasted Addition:\", broadcasted_addition.numpy())"
      ],
      "metadata": {
        "colab": {
          "base_uri": "https://localhost:8080/"
        },
        "id": "zf6wRtMfaf2g",
        "outputId": "8dfd8c74-ee54-4c42-9853-f38e8c1a41eb"
      },
      "execution_count": 14,
      "outputs": [
        {
          "output_type": "stream",
          "name": "stdout",
          "text": [
            "Broadcasted Addition: [[2 3 4]\n",
            " [3 4 5]\n",
            " [4 5 6]]\n"
          ]
        }
      ]
    },
    {
      "cell_type": "code",
      "source": [
        "# Tensor slicing\n",
        "sliced = t1[:, 1]\n",
        "print(\"Sliced Tensor:\", sliced.numpy())"
      ],
      "metadata": {
        "colab": {
          "base_uri": "https://localhost:8080/"
        },
        "id": "lICZa3v3akuv",
        "outputId": "06592ff4-3316-44ac-f5be-302ff7cfbbc7"
      },
      "execution_count": 15,
      "outputs": [
        {
          "output_type": "stream",
          "name": "stdout",
          "text": [
            "Sliced Tensor: [2 4]\n"
          ]
        }
      ]
    }
  ]
}